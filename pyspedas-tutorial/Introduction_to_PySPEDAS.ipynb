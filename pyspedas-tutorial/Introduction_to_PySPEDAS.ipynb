{
 "cells": [
  {
   "cell_type": "markdown",
   "metadata": {
    "id": "nP-sacPgp0Gy"
   },
   "source": [
    "# Introduction to PySPEDAS\n",
    "\n",
    "**By Jim Lewis, Berkeley Space Sciences Lab - jwl@ssl.berkeley.edu**\n",
    "\n",
    "- PySPEDAS: https://pyspedas.readthedocs.io/\n",
    "- PyTplot: https://pytplot.readthedocs.io/en/matplotlib-backend/\n",
    "\n",
    "\n",
    "A little history: \n",
    "- `tplot` started as an IDL project in 1995, by Davin Larson, and is the core of SPEDAS (and now PySPEDAS)\n",
    "- in 2017, some developers on the MAVEN team created an initial Python version, using Qt as a back-end for creating figures\n",
    "- in late 2021, development began on a `matplotlib` version, which is what we're using in this notebook\n"
   ]
  },
  {
   "metadata": {},
   "cell_type": "markdown",
   "source": "We'll install a specific version of matplotlib, to address a version conflict im the heliocloud environment."
  },
  {
   "metadata": {
    "ExecuteTime": {
     "end_time": "2024-05-17T20:39:17.629056Z",
     "start_time": "2024-05-17T20:39:10.213523Z"
    }
   },
   "cell_type": "code",
   "source": "!pip install matplotlib==3.6.2",
   "outputs": [
    {
     "name": "stdout",
     "output_type": "stream",
     "text": [
      "Collecting matplotlib==3.6.2\r\n",
      "  Obtaining dependency information for matplotlib==3.6.2 from https://files.pythonhosted.org/packages/ef/0b/1c4dd0f4237d9b9dd3faa697b3ff9522a2c45254de268c058f23f025372b/matplotlib-3.6.2-cp39-cp39-macosx_11_0_arm64.whl.metadata\r\n",
      "  Downloading matplotlib-3.6.2-cp39-cp39-macosx_11_0_arm64.whl.metadata (6.8 kB)\r\n",
      "Requirement already satisfied: contourpy>=1.0.1 in /Users/jwl/PycharmProjects/summer-school-24/.venv/lib/python3.9/site-packages (from matplotlib==3.6.2) (1.2.1)\r\n",
      "Requirement already satisfied: cycler>=0.10 in /Users/jwl/PycharmProjects/summer-school-24/.venv/lib/python3.9/site-packages (from matplotlib==3.6.2) (0.12.1)\r\n",
      "Requirement already satisfied: fonttools>=4.22.0 in /Users/jwl/PycharmProjects/summer-school-24/.venv/lib/python3.9/site-packages (from matplotlib==3.6.2) (4.51.0)\r\n",
      "Requirement already satisfied: kiwisolver>=1.0.1 in /Users/jwl/PycharmProjects/summer-school-24/.venv/lib/python3.9/site-packages (from matplotlib==3.6.2) (1.4.5)\r\n",
      "Requirement already satisfied: numpy>=1.19 in /Users/jwl/PycharmProjects/summer-school-24/.venv/lib/python3.9/site-packages (from matplotlib==3.6.2) (1.26.4)\r\n",
      "Requirement already satisfied: packaging>=20.0 in /Users/jwl/PycharmProjects/summer-school-24/.venv/lib/python3.9/site-packages (from matplotlib==3.6.2) (24.0)\r\n",
      "Requirement already satisfied: pillow>=6.2.0 in /Users/jwl/PycharmProjects/summer-school-24/.venv/lib/python3.9/site-packages (from matplotlib==3.6.2) (10.3.0)\r\n",
      "Requirement already satisfied: pyparsing>=2.2.1 in /Users/jwl/PycharmProjects/summer-school-24/.venv/lib/python3.9/site-packages (from matplotlib==3.6.2) (3.1.2)\r\n",
      "Requirement already satisfied: python-dateutil>=2.7 in /Users/jwl/PycharmProjects/summer-school-24/.venv/lib/python3.9/site-packages (from matplotlib==3.6.2) (2.9.0.post0)\r\n",
      "Requirement already satisfied: six>=1.5 in /Users/jwl/PycharmProjects/summer-school-24/.venv/lib/python3.9/site-packages (from python-dateutil>=2.7->matplotlib==3.6.2) (1.16.0)\r\n",
      "Downloading matplotlib-3.6.2-cp39-cp39-macosx_11_0_arm64.whl (7.2 MB)\r\n",
      "\u001B[2K   \u001B[90m━━━━━━━━━━━━━━━━━━━━━━━━━━━━━━━━━━━━━━━━\u001B[0m \u001B[32m7.2/7.2 MB\u001B[0m \u001B[31m2.0 MB/s\u001B[0m eta \u001B[36m0:00:00\u001B[0m00:01\u001B[0m00:01\u001B[0m\r\n",
      "\u001B[?25hInstalling collected packages: matplotlib\r\n",
      "  Attempting uninstall: matplotlib\r\n",
      "    Found existing installation: matplotlib 3.9.0\r\n",
      "    Uninstalling matplotlib-3.9.0:\r\n",
      "      Successfully uninstalled matplotlib-3.9.0\r\n",
      "\u001B[31mERROR: pip's dependency resolver does not currently take into account all the packages that are installed. This behaviour is the source of the following dependency conflicts.\r\n",
      "solarmach 0.3.4 requires matplotlib==3.5.3, but you have matplotlib 3.6.2 which is incompatible.\u001B[0m\u001B[31m\r\n",
      "\u001B[0mSuccessfully installed matplotlib-3.6.2\r\n",
      "\r\n",
      "\u001B[1m[\u001B[0m\u001B[34;49mnotice\u001B[0m\u001B[1;39;49m]\u001B[0m\u001B[39;49m A new release of pip is available: \u001B[0m\u001B[31;49m23.2.1\u001B[0m\u001B[39;49m -> \u001B[0m\u001B[32;49m24.0\u001B[0m\r\n",
      "\u001B[1m[\u001B[0m\u001B[34;49mnotice\u001B[0m\u001B[1;39;49m]\u001B[0m\u001B[39;49m To update, run: \u001B[0m\u001B[32;49mpip install --upgrade pip\u001B[0m\r\n"
     ]
    }
   ],
   "execution_count": 1
  },
  {
   "cell_type": "markdown",
   "metadata": {},
   "source": [
    "We have preloaded the data we'll be using with PySPEDAS during PyHC Summer School, to avoid overloading the various data servers we would otherwise need to contact.  We'll set the SPEDAS_DATA_DIR environment variable to the data cache directory."
   ]
  },
  {
   "cell_type": "code",
   "metadata": {
    "ExecuteTime": {
     "end_time": "2024-05-17T20:39:17.633280Z",
     "start_time": "2024-05-17T20:39:17.630853Z"
    }
   },
   "source": [
    "import os\n",
    "os.environ[\"SPEDAS_DATA_DIR\"] = \"/home/jovyan/scratch_space/pyspedas_data\"\n"
   ],
   "outputs": [],
   "execution_count": 2
  },
  {
   "cell_type": "markdown",
   "metadata": {},
   "source": [
    "### Example 1: A minimal PySPEDAS example ###\n",
    "\n",
    "We'll import the top level pyspedas and pytplot modules.  We'll also import a few frequently-used tools (like tplot) to avoid repetition."
   ]
  },
  {
   "cell_type": "code",
   "metadata": {
    "ExecuteTime": {
     "end_time": "2024-05-17T20:39:19.963817Z",
     "start_time": "2024-05-17T20:39:17.634312Z"
    }
   },
   "source": [
    "import pyspedas\n",
    "import pytplot\n",
    "from pytplot import tplot"
   ],
   "outputs": [
    {
     "name": "stderr",
     "output_type": "stream",
     "text": [
      "17-May-24 13:39:19: /Users/jwl/PycharmProjects/summer-school-24/.venv/lib/python3.9/site-packages/urllib3/__init__.py:35: NotOpenSSLWarning: urllib3 v2 only supports OpenSSL 1.1.1+, currently the 'ssl' module is compiled with 'LibreSSL 2.8.3'. See: https://github.com/urllib3/urllib3/issues/3020\n",
      "  warnings.warn(\n",
      "\n"
     ]
    }
   ],
   "execution_count": 3
  },
  {
   "cell_type": "markdown",
   "metadata": {},
   "source": [
    "We'll set a time range corresponding to the date of the event we're studying."
   ]
  },
  {
   "cell_type": "code",
   "metadata": {
    "id": "ablkBhTuLPbv",
    "ExecuteTime": {
     "end_time": "2024-05-17T20:39:19.966298Z",
     "start_time": "2024-05-17T20:39:19.964663Z"
    }
   },
   "source": [
    "trange = ['2023-03-24', '2023-03-25']"
   ],
   "outputs": [],
   "execution_count": 4
  },
  {
   "cell_type": "markdown",
   "metadata": {
    "id": "SFmFng0z0i26"
   },
   "source": [
    "Now we'll load some THEMIS-A Fluxgate Magnetometer (FGM) data and plot it."
   ]
  },
  {
   "cell_type": "code",
   "metadata": {
    "colab": {
     "base_uri": "https://localhost:8080/"
    },
    "id": "c057pvX-gEH0",
    "outputId": "eca6ccf6-7c67-4d4a-e233-71402515eef3",
    "ExecuteTime": {
     "end_time": "2024-05-17T20:39:54.570337Z",
     "start_time": "2024-05-17T20:39:19.967686Z"
    }
   },
   "source": [
    "fgm_vars = pyspedas.themis.fgm(probe='a',trange=trange)\n",
    "print(fgm_vars)\n",
    "tplot('tha_fgs_gse')"
   ],
   "outputs": [
    {
     "name": "stderr",
     "output_type": "stream",
     "text": [
      "17-May-24 13:39:19: Downloading remote index: http://themis.ssl.berkeley.edu/data/themis/tha/l2/fgm/2023/\n",
      "17-May-24 13:39:20: Downloading http://themis.ssl.berkeley.edu/data/themis/tha/l2/fgm/2023/tha_l2_fgm_20230324_v01.cdf to /home/jovyan/scratch_space/pyspedas_data/themis/tha/l2/fgm/2023/tha_l2_fgm_20230324_v01.cdf\n"
     ]
    },
    {
     "ename": "OSError",
     "evalue": "[Errno 45] Operation not supported: '/home/jovyan'",
     "output_type": "error",
     "traceback": [
      "\u001B[0;31m---------------------------------------------------------------------------\u001B[0m",
      "\u001B[0;31mOSError\u001B[0m                                   Traceback (most recent call last)",
      "Cell \u001B[0;32mIn[5], line 1\u001B[0m\n\u001B[0;32m----> 1\u001B[0m fgm_vars \u001B[38;5;241m=\u001B[39m \u001B[43mpyspedas\u001B[49m\u001B[38;5;241;43m.\u001B[39;49m\u001B[43mthemis\u001B[49m\u001B[38;5;241;43m.\u001B[39;49m\u001B[43mfgm\u001B[49m\u001B[43m(\u001B[49m\u001B[43mprobe\u001B[49m\u001B[38;5;241;43m=\u001B[39;49m\u001B[38;5;124;43m'\u001B[39;49m\u001B[38;5;124;43ma\u001B[39;49m\u001B[38;5;124;43m'\u001B[39;49m\u001B[43m,\u001B[49m\u001B[43mtrange\u001B[49m\u001B[38;5;241;43m=\u001B[39;49m\u001B[43mtrange\u001B[49m\u001B[43m)\u001B[49m\n\u001B[1;32m      2\u001B[0m \u001B[38;5;28mprint\u001B[39m(fgm_vars)\n\u001B[1;32m      3\u001B[0m tplot(\u001B[38;5;124m'\u001B[39m\u001B[38;5;124mtha_fgs_gse\u001B[39m\u001B[38;5;124m'\u001B[39m)\n",
      "File \u001B[0;32m~/PycharmProjects/summer-school-24/.venv/lib/python3.9/site-packages/pyspedas/themis/spacecraft/fields/fgm.py:89\u001B[0m, in \u001B[0;36mfgm\u001B[0;34m(trange, probe, level, suffix, get_support_data, varformat, coord, varnames, downloadonly, notplot, no_update, time_clip)\u001B[0m\n\u001B[1;32m     17\u001B[0m \u001B[38;5;250m\u001B[39m\u001B[38;5;124;03m\"\"\"\u001B[39;00m\n\u001B[1;32m     18\u001B[0m \u001B[38;5;124;03mThis function loads Fluxgate magnetometer (FGM) data\u001B[39;00m\n\u001B[1;32m     19\u001B[0m \n\u001B[0;32m   (...)\u001B[0m\n\u001B[1;32m     84\u001B[0m \n\u001B[1;32m     85\u001B[0m \u001B[38;5;124;03m\"\"\"\u001B[39;00m\n\u001B[1;32m     87\u001B[0m varformat \u001B[38;5;241m=\u001B[39m check_args(varformat\u001B[38;5;241m=\u001B[39mvarformat, level\u001B[38;5;241m=\u001B[39mlevel, coord\u001B[38;5;241m=\u001B[39mcoord)\n\u001B[0;32m---> 89\u001B[0m loaded_vars \u001B[38;5;241m=\u001B[39m \u001B[43mload\u001B[49m\u001B[43m(\u001B[49m\u001B[43minstrument\u001B[49m\u001B[38;5;241;43m=\u001B[39;49m\u001B[38;5;124;43m'\u001B[39;49m\u001B[38;5;124;43mfgm\u001B[39;49m\u001B[38;5;124;43m'\u001B[39;49m\u001B[43m,\u001B[49m\u001B[43m \u001B[49m\u001B[43mtrange\u001B[49m\u001B[38;5;241;43m=\u001B[39;49m\u001B[43mtrange\u001B[49m\u001B[43m,\u001B[49m\u001B[43m \u001B[49m\u001B[43mlevel\u001B[49m\u001B[38;5;241;43m=\u001B[39;49m\u001B[43mlevel\u001B[49m\u001B[43m,\u001B[49m\n\u001B[1;32m     90\u001B[0m \u001B[43m            \u001B[49m\u001B[43msuffix\u001B[49m\u001B[38;5;241;43m=\u001B[39;49m\u001B[43msuffix\u001B[49m\u001B[43m,\u001B[49m\u001B[43m \u001B[49m\u001B[43mget_support_data\u001B[49m\u001B[38;5;241;43m=\u001B[39;49m\u001B[43mget_support_data\u001B[49m\u001B[43m,\u001B[49m\n\u001B[1;32m     91\u001B[0m \u001B[43m            \u001B[49m\u001B[43mvarformat\u001B[49m\u001B[38;5;241;43m=\u001B[39;49m\u001B[43mvarformat\u001B[49m\u001B[43m,\u001B[49m\u001B[43m \u001B[49m\u001B[43mvarnames\u001B[49m\u001B[38;5;241;43m=\u001B[39;49m\u001B[43mvarnames\u001B[49m\u001B[43m,\u001B[49m\n\u001B[1;32m     92\u001B[0m \u001B[43m            \u001B[49m\u001B[43mdownloadonly\u001B[49m\u001B[38;5;241;43m=\u001B[39;49m\u001B[43mdownloadonly\u001B[49m\u001B[43m,\u001B[49m\u001B[43m \u001B[49m\u001B[43mnotplot\u001B[49m\u001B[38;5;241;43m=\u001B[39;49m\u001B[43mnotplot\u001B[49m\u001B[43m,\u001B[49m\n\u001B[1;32m     93\u001B[0m \u001B[43m            \u001B[49m\u001B[43mprobe\u001B[49m\u001B[38;5;241;43m=\u001B[39;49m\u001B[43mprobe\u001B[49m\u001B[43m,\u001B[49m\u001B[43m \u001B[49m\u001B[43mtime_clip\u001B[49m\u001B[38;5;241;43m=\u001B[39;49m\u001B[43mtime_clip\u001B[49m\u001B[43m,\u001B[49m\u001B[43m \u001B[49m\u001B[43mno_update\u001B[49m\u001B[38;5;241;43m=\u001B[39;49m\u001B[43mno_update\u001B[49m\u001B[43m)\u001B[49m\n\u001B[1;32m     95\u001B[0m \u001B[38;5;28;01mif\u001B[39;00m loaded_vars \u001B[38;5;129;01mis\u001B[39;00m \u001B[38;5;28;01mNone\u001B[39;00m \u001B[38;5;129;01mor\u001B[39;00m loaded_vars \u001B[38;5;241m==\u001B[39m []:\n\u001B[1;32m     96\u001B[0m     \u001B[38;5;28;01mreturn\u001B[39;00m []\n",
      "File \u001B[0;32m~/PycharmProjects/summer-school-24/.venv/lib/python3.9/site-packages/pyspedas/themis/load.py:197\u001B[0m, in \u001B[0;36mload\u001B[0;34m(trange, instrument, probe, level, datatype, stations, greenland, suffix, get_support_data, varformat, exclude_format, varnames, downloadonly, notplot, no_update, time_clip)\u001B[0m\n\u001B[1;32m    193\u001B[0m \u001B[38;5;28;01mfor\u001B[39;00m file_format \u001B[38;5;129;01min\u001B[39;00m pathformat:\n\u001B[1;32m    194\u001B[0m     \u001B[38;5;66;03m# find the full remote path names using the trange\u001B[39;00m\n\u001B[1;32m    195\u001B[0m     remote_names \u001B[38;5;241m=\u001B[39m dailynames(file_format\u001B[38;5;241m=\u001B[39mfile_format, trange\u001B[38;5;241m=\u001B[39mtrange, res\u001B[38;5;241m=\u001B[39mfile_resolution)\n\u001B[0;32m--> 197\u001B[0m     files \u001B[38;5;241m=\u001B[39m \u001B[43mdownload\u001B[49m\u001B[43m(\u001B[49m\u001B[43mremote_file\u001B[49m\u001B[38;5;241;43m=\u001B[39;49m\u001B[43mremote_names\u001B[49m\u001B[43m,\u001B[49m\n\u001B[1;32m    198\u001B[0m \u001B[43m                     \u001B[49m\u001B[43mremote_path\u001B[49m\u001B[38;5;241;43m=\u001B[39;49m\u001B[43mCONFIG\u001B[49m\u001B[43m[\u001B[49m\u001B[38;5;124;43m'\u001B[39;49m\u001B[38;5;124;43mremote_data_dir\u001B[39;49m\u001B[38;5;124;43m'\u001B[39;49m\u001B[43m]\u001B[49m\u001B[43m,\u001B[49m\n\u001B[1;32m    199\u001B[0m \u001B[43m                     \u001B[49m\u001B[43mlocal_path\u001B[49m\u001B[38;5;241;43m=\u001B[39;49m\u001B[43mCONFIG\u001B[49m\u001B[43m[\u001B[49m\u001B[38;5;124;43m'\u001B[39;49m\u001B[38;5;124;43mlocal_data_dir\u001B[39;49m\u001B[38;5;124;43m'\u001B[39;49m\u001B[43m]\u001B[49m\u001B[43m,\u001B[49m\n\u001B[1;32m    200\u001B[0m \u001B[43m                     \u001B[49m\u001B[43mno_download\u001B[49m\u001B[38;5;241;43m=\u001B[39;49m\u001B[43mno_update\u001B[49m\u001B[43m,\u001B[49m\n\u001B[1;32m    201\u001B[0m \u001B[43m                     \u001B[49m\u001B[43mlast_version\u001B[49m\u001B[38;5;241;43m=\u001B[39;49m\u001B[38;5;28;43;01mTrue\u001B[39;49;00m\u001B[43m)\u001B[49m\n\u001B[1;32m    202\u001B[0m     \u001B[38;5;28;01mif\u001B[39;00m files \u001B[38;5;129;01mis\u001B[39;00m \u001B[38;5;129;01mnot\u001B[39;00m \u001B[38;5;28;01mNone\u001B[39;00m:\n\u001B[1;32m    203\u001B[0m         \u001B[38;5;28;01mfor\u001B[39;00m file \u001B[38;5;129;01min\u001B[39;00m files:\n",
      "File \u001B[0;32m~/PycharmProjects/summer-school-24/.venv/lib/python3.9/site-packages/pyspedas/utilities/download.py:489\u001B[0m, in \u001B[0;36mdownload\u001B[0;34m(remote_path, remote_file, local_path, local_file, headers, username, password, verify, session, no_download, last_version, basic_auth, regex, no_wildcards)\u001B[0m\n\u001B[1;32m    487\u001B[0m \u001B[38;5;66;03m# download the files\u001B[39;00m\n\u001B[1;32m    488\u001B[0m \u001B[38;5;28;01mfor\u001B[39;00m new_link \u001B[38;5;129;01min\u001B[39;00m new_links:\n\u001B[0;32m--> 489\u001B[0m     resp_data \u001B[38;5;241m=\u001B[39m \u001B[43mdownload\u001B[49m\u001B[43m(\u001B[49m\n\u001B[1;32m    490\u001B[0m \u001B[43m        \u001B[49m\u001B[43mremote_path\u001B[49m\u001B[38;5;241;43m=\u001B[39;49m\u001B[43mremote_path\u001B[49m\u001B[43m,\u001B[49m\n\u001B[1;32m    491\u001B[0m \u001B[43m        \u001B[49m\u001B[43mremote_file\u001B[49m\u001B[38;5;241;43m=\u001B[39;49m\u001B[43mshort_path\u001B[49m\u001B[43m \u001B[49m\u001B[38;5;241;43m+\u001B[39;49m\u001B[43m \u001B[49m\u001B[43mnew_link\u001B[49m\u001B[43m,\u001B[49m\n\u001B[1;32m    492\u001B[0m \u001B[43m        \u001B[49m\u001B[43mlocal_path\u001B[49m\u001B[38;5;241;43m=\u001B[39;49m\u001B[43mlocal_path\u001B[49m\u001B[43m,\u001B[49m\n\u001B[1;32m    493\u001B[0m \u001B[43m        \u001B[49m\u001B[43musername\u001B[49m\u001B[38;5;241;43m=\u001B[39;49m\u001B[43musername\u001B[49m\u001B[43m,\u001B[49m\n\u001B[1;32m    494\u001B[0m \u001B[43m        \u001B[49m\u001B[43mpassword\u001B[49m\u001B[38;5;241;43m=\u001B[39;49m\u001B[43mpassword\u001B[49m\u001B[43m,\u001B[49m\n\u001B[1;32m    495\u001B[0m \u001B[43m        \u001B[49m\u001B[43mverify\u001B[49m\u001B[38;5;241;43m=\u001B[39;49m\u001B[43mverify\u001B[49m\u001B[43m,\u001B[49m\n\u001B[1;32m    496\u001B[0m \u001B[43m        \u001B[49m\u001B[43mheaders\u001B[49m\u001B[38;5;241;43m=\u001B[39;49m\u001B[43mheaders\u001B[49m\u001B[43m,\u001B[49m\n\u001B[1;32m    497\u001B[0m \u001B[43m        \u001B[49m\u001B[43msession\u001B[49m\u001B[38;5;241;43m=\u001B[39;49m\u001B[43msession\u001B[49m\u001B[43m,\u001B[49m\n\u001B[1;32m    498\u001B[0m \u001B[43m        \u001B[49m\u001B[43mbasic_auth\u001B[49m\u001B[38;5;241;43m=\u001B[39;49m\u001B[43mbasic_auth\u001B[49m\u001B[43m,\u001B[49m\n\u001B[1;32m    499\u001B[0m \u001B[43m    \u001B[49m\u001B[43m)\u001B[49m\n\u001B[1;32m    500\u001B[0m     \u001B[38;5;28;01mif\u001B[39;00m resp_data \u001B[38;5;129;01mis\u001B[39;00m \u001B[38;5;129;01mnot\u001B[39;00m \u001B[38;5;28;01mNone\u001B[39;00m:\n\u001B[1;32m    501\u001B[0m         \u001B[38;5;28;01mfor\u001B[39;00m file \u001B[38;5;129;01min\u001B[39;00m resp_data:\n",
      "File \u001B[0;32m~/PycharmProjects/summer-school-24/.venv/lib/python3.9/site-packages/pyspedas/utilities/download.py:505\u001B[0m, in \u001B[0;36mdownload\u001B[0;34m(remote_path, remote_file, local_path, local_file, headers, username, password, verify, session, no_download, last_version, basic_auth, regex, no_wildcards)\u001B[0m\n\u001B[1;32m    503\u001B[0m         session\u001B[38;5;241m.\u001B[39mclose()\n\u001B[1;32m    504\u001B[0m         \u001B[38;5;28;01mcontinue\u001B[39;00m\n\u001B[0;32m--> 505\u001B[0m     resp_data \u001B[38;5;241m=\u001B[39m \u001B[43mdownload_file\u001B[49m\u001B[43m(\u001B[49m\n\u001B[1;32m    506\u001B[0m \u001B[43m        \u001B[49m\u001B[43murl\u001B[49m\u001B[38;5;241;43m=\u001B[39;49m\u001B[43murl\u001B[49m\u001B[43m,\u001B[49m\n\u001B[1;32m    507\u001B[0m \u001B[43m        \u001B[49m\u001B[43mfilename\u001B[49m\u001B[38;5;241;43m=\u001B[39;49m\u001B[43mfilename\u001B[49m\u001B[43m,\u001B[49m\n\u001B[1;32m    508\u001B[0m \u001B[43m        \u001B[49m\u001B[43musername\u001B[49m\u001B[38;5;241;43m=\u001B[39;49m\u001B[43musername\u001B[49m\u001B[43m,\u001B[49m\n\u001B[1;32m    509\u001B[0m \u001B[43m        \u001B[49m\u001B[43mpassword\u001B[49m\u001B[38;5;241;43m=\u001B[39;49m\u001B[43mpassword\u001B[49m\u001B[43m,\u001B[49m\n\u001B[1;32m    510\u001B[0m \u001B[43m        \u001B[49m\u001B[43mverify\u001B[49m\u001B[38;5;241;43m=\u001B[39;49m\u001B[43mverify\u001B[49m\u001B[43m,\u001B[49m\n\u001B[1;32m    511\u001B[0m \u001B[43m        \u001B[49m\u001B[43mheaders\u001B[49m\u001B[38;5;241;43m=\u001B[39;49m\u001B[43mheaders\u001B[49m\u001B[43m,\u001B[49m\n\u001B[1;32m    512\u001B[0m \u001B[43m        \u001B[49m\u001B[43msession\u001B[49m\u001B[38;5;241;43m=\u001B[39;49m\u001B[43msession\u001B[49m\u001B[43m,\u001B[49m\n\u001B[1;32m    513\u001B[0m \u001B[43m        \u001B[49m\u001B[43mbasic_auth\u001B[49m\u001B[38;5;241;43m=\u001B[39;49m\u001B[43mbasic_auth\u001B[49m\u001B[43m,\u001B[49m\n\u001B[1;32m    514\u001B[0m \u001B[43m    \u001B[49m\u001B[43m)\u001B[49m\n\u001B[1;32m    516\u001B[0m \u001B[38;5;28;01mif\u001B[39;00m resp_data \u001B[38;5;129;01mis\u001B[39;00m \u001B[38;5;129;01mnot\u001B[39;00m \u001B[38;5;28;01mNone\u001B[39;00m:\n\u001B[1;32m    517\u001B[0m     \u001B[38;5;28;01mif\u001B[39;00m \u001B[38;5;129;01mnot\u001B[39;00m \u001B[38;5;28misinstance\u001B[39m(resp_data, \u001B[38;5;28mlist\u001B[39m):\n",
      "File \u001B[0;32m~/PycharmProjects/summer-school-24/.venv/lib/python3.9/site-packages/pyspedas/utilities/download.py:231\u001B[0m, in \u001B[0;36mdownload_file\u001B[0;34m(url, filename, headers, username, password, verify, session, basic_auth, nbr_tries)\u001B[0m\n\u001B[1;32m    226\u001B[0m \u001B[38;5;66;03m# make sure the directory exists\u001B[39;00m\n\u001B[1;32m    227\u001B[0m \u001B[38;5;28;01mif\u001B[39;00m (\n\u001B[1;32m    228\u001B[0m     \u001B[38;5;129;01mnot\u001B[39;00m os\u001B[38;5;241m.\u001B[39mpath\u001B[38;5;241m.\u001B[39mexists(os\u001B[38;5;241m.\u001B[39mpath\u001B[38;5;241m.\u001B[39mdirname(filename))\n\u001B[1;32m    229\u001B[0m     \u001B[38;5;129;01mand\u001B[39;00m os\u001B[38;5;241m.\u001B[39mpath\u001B[38;5;241m.\u001B[39mdirname(filename) \u001B[38;5;241m!=\u001B[39m \u001B[38;5;124m\"\u001B[39m\u001B[38;5;124m\"\u001B[39m\n\u001B[1;32m    230\u001B[0m ):\n\u001B[0;32m--> 231\u001B[0m     \u001B[43mos\u001B[49m\u001B[38;5;241;43m.\u001B[39;49m\u001B[43mmakedirs\u001B[49m\u001B[43m(\u001B[49m\u001B[43mos\u001B[49m\u001B[38;5;241;43m.\u001B[39;49m\u001B[43mpath\u001B[49m\u001B[38;5;241;43m.\u001B[39;49m\u001B[43mdirname\u001B[49m\u001B[43m(\u001B[49m\u001B[43mfilename\u001B[49m\u001B[43m)\u001B[49m\u001B[43m)\u001B[49m\n\u001B[1;32m    233\u001B[0m \u001B[38;5;66;03m# if the download was successful, copy to data directory\u001B[39;00m\n\u001B[1;32m    234\u001B[0m copy(ftmp\u001B[38;5;241m.\u001B[39mname, filename)\n",
      "File \u001B[0;32m/Library/Developer/CommandLineTools/Library/Frameworks/Python3.framework/Versions/3.9/lib/python3.9/os.py:215\u001B[0m, in \u001B[0;36mmakedirs\u001B[0;34m(name, mode, exist_ok)\u001B[0m\n\u001B[1;32m    213\u001B[0m \u001B[38;5;28;01mif\u001B[39;00m head \u001B[38;5;129;01mand\u001B[39;00m tail \u001B[38;5;129;01mand\u001B[39;00m \u001B[38;5;129;01mnot\u001B[39;00m path\u001B[38;5;241m.\u001B[39mexists(head):\n\u001B[1;32m    214\u001B[0m     \u001B[38;5;28;01mtry\u001B[39;00m:\n\u001B[0;32m--> 215\u001B[0m         \u001B[43mmakedirs\u001B[49m\u001B[43m(\u001B[49m\u001B[43mhead\u001B[49m\u001B[43m,\u001B[49m\u001B[43m \u001B[49m\u001B[43mexist_ok\u001B[49m\u001B[38;5;241;43m=\u001B[39;49m\u001B[43mexist_ok\u001B[49m\u001B[43m)\u001B[49m\n\u001B[1;32m    216\u001B[0m     \u001B[38;5;28;01mexcept\u001B[39;00m \u001B[38;5;167;01mFileExistsError\u001B[39;00m:\n\u001B[1;32m    217\u001B[0m         \u001B[38;5;66;03m# Defeats race condition when another thread created the path\u001B[39;00m\n\u001B[1;32m    218\u001B[0m         \u001B[38;5;28;01mpass\u001B[39;00m\n",
      "File \u001B[0;32m/Library/Developer/CommandLineTools/Library/Frameworks/Python3.framework/Versions/3.9/lib/python3.9/os.py:215\u001B[0m, in \u001B[0;36mmakedirs\u001B[0;34m(name, mode, exist_ok)\u001B[0m\n\u001B[1;32m    213\u001B[0m \u001B[38;5;28;01mif\u001B[39;00m head \u001B[38;5;129;01mand\u001B[39;00m tail \u001B[38;5;129;01mand\u001B[39;00m \u001B[38;5;129;01mnot\u001B[39;00m path\u001B[38;5;241m.\u001B[39mexists(head):\n\u001B[1;32m    214\u001B[0m     \u001B[38;5;28;01mtry\u001B[39;00m:\n\u001B[0;32m--> 215\u001B[0m         \u001B[43mmakedirs\u001B[49m\u001B[43m(\u001B[49m\u001B[43mhead\u001B[49m\u001B[43m,\u001B[49m\u001B[43m \u001B[49m\u001B[43mexist_ok\u001B[49m\u001B[38;5;241;43m=\u001B[39;49m\u001B[43mexist_ok\u001B[49m\u001B[43m)\u001B[49m\n\u001B[1;32m    216\u001B[0m     \u001B[38;5;28;01mexcept\u001B[39;00m \u001B[38;5;167;01mFileExistsError\u001B[39;00m:\n\u001B[1;32m    217\u001B[0m         \u001B[38;5;66;03m# Defeats race condition when another thread created the path\u001B[39;00m\n\u001B[1;32m    218\u001B[0m         \u001B[38;5;28;01mpass\u001B[39;00m\n",
      "    \u001B[0;31m[... skipping similar frames: makedirs at line 215 (4 times)]\u001B[0m\n",
      "File \u001B[0;32m/Library/Developer/CommandLineTools/Library/Frameworks/Python3.framework/Versions/3.9/lib/python3.9/os.py:215\u001B[0m, in \u001B[0;36mmakedirs\u001B[0;34m(name, mode, exist_ok)\u001B[0m\n\u001B[1;32m    213\u001B[0m \u001B[38;5;28;01mif\u001B[39;00m head \u001B[38;5;129;01mand\u001B[39;00m tail \u001B[38;5;129;01mand\u001B[39;00m \u001B[38;5;129;01mnot\u001B[39;00m path\u001B[38;5;241m.\u001B[39mexists(head):\n\u001B[1;32m    214\u001B[0m     \u001B[38;5;28;01mtry\u001B[39;00m:\n\u001B[0;32m--> 215\u001B[0m         \u001B[43mmakedirs\u001B[49m\u001B[43m(\u001B[49m\u001B[43mhead\u001B[49m\u001B[43m,\u001B[49m\u001B[43m \u001B[49m\u001B[43mexist_ok\u001B[49m\u001B[38;5;241;43m=\u001B[39;49m\u001B[43mexist_ok\u001B[49m\u001B[43m)\u001B[49m\n\u001B[1;32m    216\u001B[0m     \u001B[38;5;28;01mexcept\u001B[39;00m \u001B[38;5;167;01mFileExistsError\u001B[39;00m:\n\u001B[1;32m    217\u001B[0m         \u001B[38;5;66;03m# Defeats race condition when another thread created the path\u001B[39;00m\n\u001B[1;32m    218\u001B[0m         \u001B[38;5;28;01mpass\u001B[39;00m\n",
      "File \u001B[0;32m/Library/Developer/CommandLineTools/Library/Frameworks/Python3.framework/Versions/3.9/lib/python3.9/os.py:225\u001B[0m, in \u001B[0;36mmakedirs\u001B[0;34m(name, mode, exist_ok)\u001B[0m\n\u001B[1;32m    223\u001B[0m         \u001B[38;5;28;01mreturn\u001B[39;00m\n\u001B[1;32m    224\u001B[0m \u001B[38;5;28;01mtry\u001B[39;00m:\n\u001B[0;32m--> 225\u001B[0m     \u001B[43mmkdir\u001B[49m\u001B[43m(\u001B[49m\u001B[43mname\u001B[49m\u001B[43m,\u001B[49m\u001B[43m \u001B[49m\u001B[43mmode\u001B[49m\u001B[43m)\u001B[49m\n\u001B[1;32m    226\u001B[0m \u001B[38;5;28;01mexcept\u001B[39;00m \u001B[38;5;167;01mOSError\u001B[39;00m:\n\u001B[1;32m    227\u001B[0m     \u001B[38;5;66;03m# Cannot rely on checking for EEXIST, since the operating system\u001B[39;00m\n\u001B[1;32m    228\u001B[0m     \u001B[38;5;66;03m# could give priority to other errors like EACCES or EROFS\u001B[39;00m\n\u001B[1;32m    229\u001B[0m     \u001B[38;5;28;01mif\u001B[39;00m \u001B[38;5;129;01mnot\u001B[39;00m exist_ok \u001B[38;5;129;01mor\u001B[39;00m \u001B[38;5;129;01mnot\u001B[39;00m path\u001B[38;5;241m.\u001B[39misdir(name):\n",
      "\u001B[0;31mOSError\u001B[0m: [Errno 45] Operation not supported: '/home/jovyan'"
     ]
    }
   ],
   "execution_count": 5
  },
  {
   "cell_type": "markdown",
   "metadata": {},
   "source": [
    "A few things to note about this example:\n",
    "\n",
    "Many of the PySPEDAS load routines follow the naming convention pyspedas.mission.instrument.\n",
    "\n",
    "Parameters to the load routines are fairly standardized, and usually have sensible defaults.\n",
    "In this case, we got all the relevant variables (including several choices of time resolution and coordinate systems) from the THEMIS-A L2 FGM data set.\n",
    "\n",
    "Most load routines return a list of the tplot variables loaded.\n",
    "\n",
    "We didn't have to set any axis titles, tick mark spacing, data ranges, or legends for the plot!\n",
    "Many of the plot options are taken from metadata in the underlying data files; other attributes are initialized with reasonable defaults."
   ]
  },
  {
   "cell_type": "markdown",
   "metadata": {},
   "source": [
    "Tplot variables are the main data structure in PySPEDAS.  A tplot variable is essentially a container for timestamps, data arrays, and metadata (including plot options).  The underlying data structures are mapped to strings, and it is actually the strings or lists of strings that are passed around between PySPEDAS tools.\n",
    "\n",
    "Let's take a closer look at some of the tplot variables produced by this load routine call.\n",
    "\n",
    "We can see a list of loaded variables with the routine pytplot.tplot_names():  "
   ]
  },
  {
   "cell_type": "code",
   "metadata": {},
   "source": [
    "pytplot.tplot_names()"
   ],
   "outputs": [],
   "execution_count": null
  },
  {
   "cell_type": "markdown",
   "metadata": {},
   "source": [
    "To get access to the underlying timestamp or data arrays, or the metadata dictionary, \n",
    "we can use pytplot.get_data().   \n",
    "\n",
    "pytplot.time_string() is useful for generating human-readable timestamps."
   ]
  },
  {
   "cell_type": "code",
   "metadata": {},
   "source": [
    "from pytplot import get_data, time_string\n",
    "\n",
    "# By default, get_data returns a tuple with named fields 'times', 'y', \n",
    "# and possibly additional fields for spectrograms or higher dimensional data arrays.\n",
    "fgs_dat = get_data('tha_fgs_gse')\n",
    "print(time_string(fgs_dat.times[0:3]))\n",
    "print(fgs_dat.y[0:3])\n",
    "\n",
    "# get_data can also return a dictionary containing the variable's metadata, plot options, etc.\n",
    "fgs_md = get_data('tha_fgs_gse', metadata=True)\n",
    "print(fgs_md.keys())\n",
    "print(fgs_md['plot_options']['yaxis_opt'])"
   ],
   "outputs": [],
   "execution_count": null
  },
  {
   "cell_type": "markdown",
   "metadata": {
    "id": "Sr69rMo4Svex"
   },
   "source": [
    "To find the supported load routines and keywords, see our documentation: https://pyspedas.readthedocs.io/\n",
    "\n",
    "You can also see the supported options by calling `help` on the load routine you're interested in"
   ]
  },
  {
   "cell_type": "code",
   "metadata": {
    "colab": {
     "base_uri": "https://localhost:8080/"
    },
    "id": "oB2yIwdSSUdN",
    "outputId": "4b02e9b4-8987-4383-9a0c-c9c2c3ecac0f"
   },
   "source": [
    "help(pyspedas.themis.fgm)"
   ],
   "outputs": [],
   "execution_count": null
  },
  {
   "cell_type": "markdown",
   "metadata": {},
   "source": [
    "# THEMIS ESA (Electrostatic Analyzer) data\n",
    "\n",
    "Now we'll load some THEMIS-A data from the ESA instrument.   This is a good example of a spectrogram plot."
   ]
  },
  {
   "cell_type": "code",
   "metadata": {},
   "source": [
    "esa_vars = pyspedas.themis.esa(probe='a', trange=trange)\n",
    "print(esa_vars)\n",
    "\n",
    "# PEEF = ESA fast survey electrons, PEIF = ESA fast survey ions\n",
    "tplot(['tha_peef_en_eflux','tha_peef_velocity_dsl','tha_peif_en_eflux', 'tha_peif_velocity_dsl'])"
   ],
   "outputs": [],
   "execution_count": null
  },
  {
   "cell_type": "markdown",
   "metadata": {},
   "source": [
    "Let's take a look at one of the spectrogram variables, 'tha_peif_en_eflux'."
   ]
  },
  {
   "cell_type": "code",
   "metadata": {},
   "source": [
    "import numpy as np\n",
    "esa_eflux_data = get_data('tha_peif_en_eflux')\n",
    "print(\"Timestamps:\")\n",
    "print(pytplot.time_string(esa_eflux_data.times[0:3]))\n",
    "print(\"First data value(s):\")\n",
    "print(esa_eflux_data.y[0,:])\n",
    "print(\"First v values(s):\")\n",
    "print(esa_eflux_data.v[0,:])\n",
    "print(\"Shape of times array:\",np.shape(esa_eflux_data.times))\n",
    "print(\"Shape of data values array:\", np.shape(esa_eflux_data.y))\n",
    "print(\"Shape of v (bin values) array:\",np.shape(esa_eflux_data.v))\n"
   ],
   "outputs": [],
   "execution_count": null
  },
  {
   "cell_type": "markdown",
   "metadata": {},
   "source": [
    "There are 746 timestamps.  Each data point has 32 energy bins, with the bin values (in eV) along the Y axis. \n",
    " \n",
    "The data values in each energy bin are mapped to colors (what we call the \"z-axis\" for a spectogram variable).  \n",
    "\n",
    "The tuple returned by get_data for this variable has an extra component, 'v', representing the bin values along the Y axis. Note that v also has shape 746 x 32.  The bin values are allowed to vary over time, and PySPEDAS will render them correctly as long as the metadata in the underlying data file follows the standard conventions."
   ]
  },
  {
   "cell_type": "markdown",
   "metadata": {},
   "source": [
    "# Orbit data for the ERG (Arase) satellite\n",
    "\n",
    "Let's look at a different mission, JAXA's Arase probe.   We'll load and plot the orbit data\n",
    "for the time range of interest."
   ]
  },
  {
   "cell_type": "code",
   "metadata": {},
   "source": [
    "erg_orb_vars = pyspedas.erg.orb(trange=trange)\n",
    "tplot('erg_orb_l2_pos_gse')"
   ],
   "outputs": [],
   "execution_count": null
  },
  {
   "cell_type": "code",
   "metadata": {},
   "source": [
    "erg_orb_vars\n"
   ],
   "outputs": [],
   "execution_count": null
  },
  {
   "cell_type": "markdown",
   "metadata": {},
   "source": [
    "# OMNIWeb Solar Wind parameters\n",
    "\n",
    "The OMNIWeb data set includes various solar wind and interplanetary magnetic field measurements that are especially useful as inputs to models of Earth's magnetic field, and as geomagnetic activity indexes.   Here we'll load some OMNI data for the date we're studying, and plot the proton density, flow speed, and dynamic pressure."
   ]
  },
  {
   "cell_type": "code",
   "metadata": {},
   "source": [
    "pyspedas.omni.data(trange=trange)\n",
    "tplot(['proton_density', 'flow_speed', 'Pressure'])"
   ],
   "outputs": [],
   "execution_count": null
  },
  {
   "cell_type": "markdown",
   "metadata": {},
   "source": [
    "# Ground Magnetometer Data #"
   ]
  },
  {
   "cell_type": "markdown",
   "metadata": {},
   "source": [
    "PySPEDAS can load magnetometer data from several networks of ground stations in North America, Europe, Antarctica, and other locations.  Most of them can be accessed via the THEMIS GMAG load routine.   "
   ]
  },
  {
   "cell_type": "code",
   "metadata": {},
   "source": [
    "gmag_vars = pyspedas.themis.gmag(sites=['fsmi', 'fykn', 'atha'], trange=trange)\n",
    "tplot(gmag_vars)"
   ],
   "outputs": [],
   "execution_count": null
  },
  {
   "cell_type": "markdown",
   "metadata": {},
   "source": [
    "Let's take a closer look at the FSMI data (Fort Smith, Northwest Territories, Canada).\n",
    "The strength of the ambient field makes it hard to see small variations.  PyTplot has a \"subtract_median\" tool that will help visualize the variations."
   ]
  },
  {
   "cell_type": "code",
   "metadata": {},
   "source": [
    "pytplot.subtract_median('thg_mag_fsmi',newname='thg_mag_fsmi_subtract_median')\n",
    "tplot('thg_mag_fsmi_subtract_median')"
   ],
   "outputs": [],
   "execution_count": null
  },
  {
   "cell_type": "markdown",
   "metadata": {},
   "source": []
  },
  {
   "cell_type": "code",
   "metadata": {},
   "source": [],
   "outputs": [],
   "execution_count": null
  }
 ],
 "metadata": {
  "colab": {
   "collapsed_sections": [],
   "name": "PySPEDAS/PyTplot for Solar Physicists.ipynb",
   "provenance": []
  },
  "kernelspec": {
   "display_name": "Python 3 (ipykernel)",
   "language": "python",
   "name": "python3"
  },
  "language_info": {
   "codemirror_mode": {
    "name": "ipython",
    "version": 3
   },
   "file_extension": ".py",
   "mimetype": "text/x-python",
   "name": "python",
   "nbconvert_exporter": "python",
   "pygments_lexer": "ipython3",
   "version": "3.9.6"
  }
 },
 "nbformat": 4,
 "nbformat_minor": 4
}
