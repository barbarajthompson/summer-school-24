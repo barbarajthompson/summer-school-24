{
 "cells": [
  {
   "cell_type": "markdown",
   "id": "0d868ffb",
   "metadata": {},
   "source": [
    "# Demo of Instantiation Options and General Parameters"
   ]
  },
  {
   "cell_type": "code",
   "execution_count": 1,
   "id": "bb5d4f4c",
   "metadata": {},
   "outputs": [],
   "source": [
    "import numpy as np"
   ]
  },
  {
   "cell_type": "code",
   "execution_count": 2,
   "id": "386b667a",
   "metadata": {},
   "outputs": [],
   "source": [
    "import pysat"
   ]
  },
  {
   "cell_type": "code",
   "execution_count": 3,
   "id": "0e519ce4",
   "metadata": {},
   "outputs": [
    {
     "name": "stdout",
     "output_type": "stream",
     "text": [
      "old: ['/home/jovyan/scratch_space/.pysat']\n",
      "pysat directory has been set previously. Leaving unchanged.\n",
      "new: ['/home/jovyan/scratch_space/.pysat']\n"
     ]
    }
   ],
   "source": [
    "# Set data directory if user hasn't already set one\n",
    "print(f\"old: {pysat.params['data_dirs']}\")\n",
    "if len(pysat.params['data_dirs']) == 0 or pysat.params['data_dirs'] == ['.']:\n",
    "    # Set a directory for pysat to use for data\n",
    "    pysat.params['data_dirs'] = '/home/jovyan/scratch_space/.pysat/'\n",
    "else:\n",
    "    print('pysat directory has been set previously. Leaving unchanged.')\n",
    "\n",
    "print(f\"new: {pysat.params['data_dirs']}\")"
   ]
  },
  {
   "cell_type": "code",
   "execution_count": 4,
   "id": "6588311a",
   "metadata": {},
   "outputs": [],
   "source": [
    "# Normally pysat looks in `pysat.params['data_dirs']`, plus applies a directory naming scheme. \n",
    "# This file organization may be shortcut using `data_dir`.\n",
    "data_dir = ''\n",
    "\n",
    "# pysat normally stores different data sets with the following organization `{platform}/{name}/{tag}/{inst_id}`.\n",
    "# The default `directory_format` is stored in `pysat.params['directory_format']`.\n",
    "# It can be modified for individual Instrument objects.\n",
    "directory_format = None\n",
    "\n",
    "# Instrument data set developers will set a nominal `file_format` string for that particular data set.\n",
    "# For example, for ICON IVM \n",
    "# `file_format = 'icon_l2-7_ivm-{id:s}_{year:04d}{month:02d}{day:02d}_v{version:02d}r{revision:03d}.nc`.\n",
    "# is defined interally. A different format string may be supplied to individual Instrument objects.\n",
    "# Note to support year, day of year filenames do not include the `month` template keyword.\n",
    "file_format = None\n",
    "\n",
    "# pysat can be configured to update the list of data set files automatically upon instantiation.\n",
    "# The default value is stored in `pysat.params['update_files']` but can be modified on a per\n",
    "# Instrument object basis.\n",
    "update_files = False\n",
    "\n",
    "# pysat performs internal checks for loaded data sets to ensure time is monotonic and increasing.\n",
    "# This may be disabled by setting `strict_time_flag` to False.\n",
    "strict_time_flag = True\n",
    "\n",
    "# empty files may be automatically removed, if desired. Note all testing 'files' are empty.\n",
    "ignore_empty_files = False\n",
    "\n",
    "# The metadata labels (categories) tracked by the Instrument object. \n",
    "# This provides support for writing netCDF4 files with partial SPDF standards compliance.\n",
    "# Note pysat supports full compliance using additional features when writing files, such\n",
    "# as `meta_translation` to create redundantly named metadata.\n",
    "labels = {'units': ('Units', str), 'name': ('Long_Name', str),\n",
    "          'notes': ('Var_Notes', str), 'desc': ('CatDesc', str),\n",
    "          'plot': ('FieldNam', str), 'axis': ('LablAxis', str),\n",
    "          'scale': ('ScaleTyp', str),\n",
    "          'min_val': ('Valid_Min', np.float64),\n",
    "          'max_val': ('Valid_Max', np.float64),\n",
    "          'fill_val': ('_FillValue', np.float64)}\n",
    "\n",
    "kwargs = {'data_dir': data_dir, 'directory_format': directory_format, 'file_format': None,\n",
    "          'update_files': update_files, 'strict_time_flag': strict_time_flag,\n",
    "          'ignore_empty_files': ignore_empty_files, 'meta_kwargs': {'labels':labels}}"
   ]
  },
  {
   "cell_type": "code",
   "execution_count": 5,
   "id": "1881d7a3",
   "metadata": {},
   "outputs": [],
   "source": [
    "# Instantiate test instrument using user defined keywords above\n",
    "inst = pysat.Instrument('pysat', 'testing', **kwargs)"
   ]
  },
  {
   "cell_type": "code",
   "execution_count": 6,
   "id": "482252d6",
   "metadata": {},
   "outputs": [
    {
     "data": {
      "text/plain": [
       "2022-01-01    2022-01-01.nofile\n",
       "2022-01-02    2022-01-02.nofile\n",
       "2022-01-03    2022-01-03.nofile\n",
       "2022-01-04    2022-01-04.nofile\n",
       "2022-01-05    2022-01-05.nofile\n",
       "                    ...        \n",
       "2022-12-27    2022-12-27.nofile\n",
       "2022-12-28    2022-12-28.nofile\n",
       "2022-12-29    2022-12-29.nofile\n",
       "2022-12-30    2022-12-30.nofile\n",
       "2022-12-31    2022-12-31.nofile\n",
       "Length: 365, dtype: object"
      ]
     },
     "execution_count": 6,
     "metadata": {},
     "output_type": "execute_result"
    }
   ],
   "source": [
    "# Check out files list\n",
    "inst.files.files"
   ]
  },
  {
   "cell_type": "code",
   "execution_count": 7,
   "id": "89e412aa",
   "metadata": {},
   "outputs": [
    {
     "data": {
      "text/plain": [
       "'/home/jovyan/scratch_space/.pysat/pysat/testing/'"
      ]
     },
     "execution_count": 7,
     "metadata": {},
     "output_type": "execute_result"
    }
   ],
   "source": [
    "# Check out impact on where pysat looks for files\n",
    "inst.files.data_path"
   ]
  },
  {
   "cell_type": "code",
   "execution_count": 8,
   "id": "ca11e53b",
   "metadata": {},
   "outputs": [
    {
     "data": {
      "text/plain": [
       "'{platform}/{name}/{tag}/{inst_id}'"
      ]
     },
     "execution_count": 8,
     "metadata": {},
     "output_type": "execute_result"
    }
   ],
   "source": [
    "# Check out impact on the directory format pysat uses\n",
    "inst.files.directory_format"
   ]
  },
  {
   "cell_type": "code",
   "execution_count": 9,
   "id": "7d483cfb",
   "metadata": {},
   "outputs": [
    {
     "data": {
      "text/html": [
       "<div>\n",
       "<style scoped>\n",
       "    .dataframe tbody tr th:only-of-type {\n",
       "        vertical-align: middle;\n",
       "    }\n",
       "\n",
       "    .dataframe tbody tr th {\n",
       "        vertical-align: top;\n",
       "    }\n",
       "\n",
       "    .dataframe thead th {\n",
       "        text-align: right;\n",
       "    }\n",
       "</style>\n",
       "<table border=\"1\" class=\"dataframe\">\n",
       "  <thead>\n",
       "    <tr style=\"text-align: right;\">\n",
       "      <th></th>\n",
       "      <th>Units</th>\n",
       "      <th>Long_Name</th>\n",
       "      <th>Var_Notes</th>\n",
       "      <th>CatDesc</th>\n",
       "      <th>Valid_Min</th>\n",
       "      <th>Valid_Max</th>\n",
       "      <th>_FillValue</th>\n",
       "      <th>FieldNam</th>\n",
       "      <th>LablAxis</th>\n",
       "      <th>ScaleTyp</th>\n",
       "    </tr>\n",
       "  </thead>\n",
       "  <tbody>\n",
       "  </tbody>\n",
       "</table>\n",
       "</div>"
      ],
      "text/plain": [
       "Empty DataFrame\n",
       "Columns: [Units, Long_Name, Var_Notes, CatDesc, Valid_Min, Valid_Max, _FillValue, FieldNam, LablAxis, ScaleTyp]\n",
       "Index: []"
      ]
     },
     "execution_count": 9,
     "metadata": {},
     "output_type": "execute_result"
    }
   ],
   "source": [
    "# Check out impact upon metadata labels\n",
    "inst.meta.data"
   ]
  },
  {
   "cell_type": "code",
   "execution_count": 10,
   "id": "defcc3ee",
   "metadata": {},
   "outputs": [
    {
     "data": {
      "text/plain": [
       "Series([], Name: Var_Notes, dtype: object)"
      ]
     },
     "execution_count": 10,
     "metadata": {},
     "output_type": "execute_result"
    }
   ],
   "source": [
    "# Note that metadata access is case insensitive. Object itself is case preserving.\n",
    "inst.meta[:, 'var_notes']"
   ]
  },
  {
   "cell_type": "code",
   "execution_count": 11,
   "id": "31617ff4",
   "metadata": {},
   "outputs": [],
   "source": [
    "# Check for impact to stored file_format. Default is None.\n",
    "inst.files.file_format"
   ]
  },
  {
   "cell_type": "markdown",
   "id": "3345ec0d",
   "metadata": {},
   "source": [
    "# pysat Stored Parameters"
   ]
  },
  {
   "cell_type": "code",
   "execution_count": 12,
   "id": "4452df42",
   "metadata": {},
   "outputs": [
    {
     "name": "stdout",
     "output_type": "stream",
     "text": [
      "pysat Parameters object\n",
      "----------------------\n",
      "Tracking 7 pysat settings\n",
      "Tracking 1 settings (non-default)\n",
      "Tracking 1 user values\n",
      "\n",
      "Standard parameters:\n",
      "clean_level : clean\n",
      "directory_format : {platform}/{name}/{tag}/{inst_id}\n",
      "ignore_empty_files : False\n",
      "file_timeout : 10\n",
      "update_files : True\n",
      "user_modules : {'ace': {'epam': 'pysatSpaceWeather.instruments.ace_epam', 'mag': 'pysatSpaceWeather.instruments.ace_mag', 'sis': 'pysatSpaceWeather.instruments.ace_sis', 'swepam': 'pysatSpaceWeather.instruments.ace_swepam'}, 'sw': {'ae': 'pysatSpaceWeather.instruments.sw_ae', 'al': 'pysatSpaceWeather.instruments.sw_al', 'au': 'pysatSpaceWeather.instruments.sw_au', 'ap': 'pysatSpaceWeather.instruments.sw_ap', 'apo': 'pysatSpaceWeather.instruments.sw_apo', 'cp': 'pysatSpaceWeather.instruments.sw_cp', 'dst': 'pysatSpaceWeather.instruments.sw_dst', 'f107': 'pysatSpaceWeather.instruments.sw_f107', 'flare': 'pysatSpaceWeather.instruments.sw_flare', 'hpo': 'pysatSpaceWeather.instruments.sw_hpo', 'kp': 'pysatSpaceWeather.instruments.sw_kp', 'mgii': 'pysatSpaceWeather.instruments.sw_mgii', 'polarcap': 'pysatSpaceWeather.instruments.sw_polarcap', 'sbfield': 'pysatSpaceWeather.instruments.sw_sbfield', 'ssn': 'pysatSpaceWeather.instruments.sw_ssn', 'stormprob': 'pysatSpaceWeather.instruments.sw_stormprob'}, 'dmsp': {'ivm': 'pysatMadrigal.instruments.dmsp_ivm', 'ssj': 'pysatMadrigal.instruments.dmsp_ssj'}, 'gnss': {'tec': 'pysatMadrigal.instruments.gnss_tec'}, 'jro': {'isr': 'pysatMadrigal.instruments.jro_isr'}, 'madrigal': {'dst': 'pysatMadrigal.instruments.madrigal_dst', 'geoind': 'pysatMadrigal.instruments.madrigal_geoind', 'pandas': 'pysatMadrigal.instruments.madrigal_pandas'}, 'ngdc': {'ae': 'pysatMadrigal.instruments.ngdc_ae'}, 'omni2': {'imf': 'pysatMadrigal.instruments.omni2_imf'}, 'icon': {'ivm': 'pysatNASA.instruments.icon_ivm', 'mighti': 'pysatNASA.instruments.icon_mighti'}, 'missions': {'ephem': 'pysatMissions.instruments.missions_ephem', 'sgp4': 'pysatMissions.instruments.missions_sgp4', 'skyfield': 'pysatMissions.instruments.missions_skyfield'}}\n",
      "warn_empty_file_list : False\n",
      "\n",
      "Standard parameters (no defaults):\n",
      "data_dirs : ['/home/jovyan/scratch_space/.pysat']\n",
      "\n",
      "User parameters:\n",
      "custom_user_parameter : True\n",
      "\n"
     ]
    }
   ],
   "source": [
    "# Current parameters overview\n",
    "print(pysat.params)"
   ]
  },
  {
   "cell_type": "code",
   "execution_count": 13,
   "id": "8b56ff10",
   "metadata": {},
   "outputs": [],
   "source": [
    "# Set a 'standard' parameter\n",
    "pysat.params['update_files'] = False"
   ]
  },
  {
   "cell_type": "code",
   "execution_count": 14,
   "id": "24500bfb",
   "metadata": {},
   "outputs": [],
   "source": [
    "# Reset standard parameters. Note that `data_dirs` is unaffected.\n",
    "pysat.params.restore_defaults()"
   ]
  },
  {
   "cell_type": "code",
   "execution_count": 15,
   "id": "a43ee1d0",
   "metadata": {},
   "outputs": [],
   "source": [
    "# Assign custom user parameter. Automatically stored on disk.\n",
    "pysat.params['custom_user_parameter'] = True"
   ]
  },
  {
   "cell_type": "code",
   "execution_count": 16,
   "id": "2ce8ba68",
   "metadata": {},
   "outputs": [
    {
     "name": "stdout",
     "output_type": "stream",
     "text": [
      "pysat Parameters object\n",
      "----------------------\n",
      "Tracking 7 pysat settings\n",
      "Tracking 1 settings (non-default)\n",
      "Tracking 1 user values\n",
      "\n",
      "Standard parameters:\n",
      "clean_level : clean\n",
      "directory_format : {platform}/{name}/{tag}/{inst_id}\n",
      "ignore_empty_files : False\n",
      "file_timeout : 10\n",
      "update_files : True\n",
      "user_modules : {}\n",
      "warn_empty_file_list : False\n",
      "\n",
      "Standard parameters (no defaults):\n",
      "data_dirs : ['/home/jovyan/scratch_space/.pysat']\n",
      "\n",
      "User parameters:\n",
      "custom_user_parameter : True\n",
      "\n"
     ]
    }
   ],
   "source": [
    "# Check out updates\n",
    "print(pysat.params)"
   ]
  },
  {
   "cell_type": "code",
   "execution_count": null,
   "id": "e6805832",
   "metadata": {},
   "outputs": [],
   "source": []
  }
 ],
 "metadata": {
  "kernelspec": {
   "display_name": "Python 3 (ipykernel)",
   "language": "python",
   "name": "python3"
  },
  "language_info": {
   "codemirror_mode": {
    "name": "ipython",
    "version": 3
   },
   "file_extension": ".py",
   "mimetype": "text/x-python",
   "name": "python",
   "nbconvert_exporter": "python",
   "pygments_lexer": "ipython3",
   "version": "3.10.14"
  }
 },
 "nbformat": 4,
 "nbformat_minor": 5
}
