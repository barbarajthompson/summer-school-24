{
 "cells": [
  {
   "cell_type": "markdown",
   "metadata": {},
   "source": [
    "## This section will walk you through a variant of the notebook named \"ModelReaderDemo_ThreeReaders.ipynb\" in the Tutorials folder"
   ]
  },
  {
   "cell_type": "markdown",
   "metadata": {},
   "source": [
    "# Demo notebook for Three Model Readers\n",
    "For each model reader, the user is shown how to find the desired variables across model results, how to determine what the correct file input is for the model's reader, and how to run the reader. Note the syntax for each is identical. Any differences in inputs are easily accessible to the user through the methods shown."
   ]
  },
  {
   "cell_type": "code",
   "execution_count": null,
   "metadata": {},
   "outputs": [],
   "source": [
    "# Load modules and set variables\n",
    "from kamodo import Kamodo, get_defaults\n",
    "import kamodo_ccmc.flythrough.model_wrapper as MW\n",
    "from kamodo_ccmc.tools.plotfunctions import figMods\n",
    "from datetime import timedelta\n",
    "\n",
    "ctipe_file_dir = '/home/jovyan/scratch_space/Kamodo_Model_Output//CTIPe/Fernando_Pinheiro_012521_IT_1_subset/'\n",
    "gitm_file_dir = '/home/jovyan/scratch_space/Kamodo_Model_Output//GITM/Olga_Verkhoglyadova_013118_IT_3_subset/'\n",
    "waccmx_file_dir = '/home/jovyan/scratch_space/Kamodo_Model_Output//WACCMX/Mapoet_Niphy_041023_IT_2/'"
   ]
  },
  {
   "cell_type": "code",
   "execution_count": null,
   "metadata": {
    "scrolled": true
   },
   "outputs": [],
   "source": [
    "# Find what model has the variables...\n",
    "MW.Variable_Search('temperature')"
   ]
  },
  {
   "cell_type": "code",
   "execution_count": null,
   "metadata": {},
   "outputs": [],
   "source": [
    "# Find out if the chosen CTIPe dataset has the desired variables.\n",
    "MW.Variable_Search('temperature', model='CTIPe', file_dir=ctipe_file_dir)"
   ]
  },
  {
   "cell_type": "code",
   "execution_count": null,
   "metadata": {},
   "outputs": [],
   "source": [
    "# Retrieve model reader and access the model data for the CTIPe model.\n",
    "# Note one variable chosen depends on pressure level, but the user\n",
    "# does not need to know that to be able to retrieve and interact with it.\n",
    "reader = MW.Model_Reader('CTIPe')\n",
    "kamodo_object_ctipe = reader(ctipe_file_dir, variables_requested=['T_n', 'T_i'])\n",
    "kamodo_object_ctipe"
   ]
  },
  {
   "cell_type": "code",
   "execution_count": null,
   "metadata": {},
   "outputs": [],
   "source": [
    "# Find related variables in the chosen GITM data\n",
    "MW.Variable_Search('temperature', model='GITM', file_dir=gitm_file_dir)"
   ]
  },
  {
   "cell_type": "code",
   "execution_count": null,
   "metadata": {},
   "outputs": [],
   "source": [
    "# Retrieve model reader and access model data for the GITM model.\n",
    "# Note the identical syntax!\n",
    "reader = MW.Model_Reader('GITM')\n",
    "kamodo_object_gitm = reader(gitm_file_dir, variables_requested=['T_n'])\n",
    "kamodo_object_gitm"
   ]
  },
  {
   "cell_type": "code",
   "execution_count": null,
   "metadata": {
    "scrolled": true
   },
   "outputs": [],
   "source": [
    "# Find related variables in the chosen WACCMX data\n",
    "# This step also performs any file conversions or pre-processing needed.\n",
    "MW.Variable_Search('temperature', model='WACCMX', file_dir=waccmx_file_dir)"
   ]
  },
  {
   "cell_type": "code",
   "execution_count": null,
   "metadata": {},
   "outputs": [],
   "source": [
    "# Retrieve model reader and access model data for the WACCMX model.\n",
    "# Note the identical syntax!\n",
    "reader = MW.Model_Reader('WACCMX')\n",
    "kamodo_object_waccmx = reader(waccmx_file_dir, variables_requested=['T'])\n",
    "kamodo_object_waccmx"
   ]
  },
  {
   "cell_type": "code",
   "execution_count": null,
   "metadata": {},
   "outputs": [],
   "source": [
    "# Collect functions into a single Kamodo object.\n",
    "# Note the names of the coordinates each variable depends on.\n",
    "kamodo_object = Kamodo()\n",
    "kamodo_object['CTIPeT_n[K]'] = kamodo_object_ctipe['T_n_ijk']\n",
    "kamodo_object['GITMT_n[K]'] = kamodo_object_gitm['T_n_ijk']\n",
    "kamodo_object['WACCMXT[K]'] = kamodo_object_waccmx['T_ijk']\n",
    "kamodo_object"
   ]
  },
  {
   "cell_type": "code",
   "execution_count": null,
   "metadata": {},
   "outputs": [],
   "source": [
    "# Find out the coordinate ranges for the variables retrieved.\n",
    "for var in ['CTIPeT_n', 'GITMT_n', 'WACCMXT']:\n",
    "    print('\\n', var)\n",
    "    defaults_ijk = get_defaults(kamodo_object[var])\n",
    "    for key in defaults_ijk:\n",
    "        print(key, len(defaults_ijk[key]), defaults_ijk[key].min(), defaults_ijk[key].max())"
   ]
  },
  {
   "cell_type": "code",
   "execution_count": null,
   "metadata": {},
   "outputs": [],
   "source": [
    "# Print out the datetime object for midnight of the first day of the data.\n",
    "# Note that the data start on the same day.\n",
    "print('CTIPe', kamodo_object_ctipe.filedate)\n",
    "print('GITM', kamodo_object_gitm.filedate)\n",
    "print('WACCMX', kamodo_object_waccmx.filedate)"
   ]
  },
  {
   "cell_type": "code",
   "execution_count": null,
   "metadata": {},
   "outputs": [],
   "source": [
    "# Plot each. Note that the user can automatically slice a pressure level variable by height!\n",
    "# Areas of the grid where the height is greater than the pressure level will be blank.\n",
    "# Change the time and height values as desired.\n",
    "# This is an example of a default Kamodo plot.\n",
    "kamodo_object.plot('CTIPeT_n', plot_partial={'CTIPeT_n': {'time': 12., 'height': 300.}})"
   ]
  },
  {
   "cell_type": "code",
   "execution_count": null,
   "metadata": {},
   "outputs": [],
   "source": [
    "#The same plot but modified for a nicer look.\n",
    "plothrs = 12.\n",
    "timestr = (kamodo_object_ctipe.filedate + timedelta(hours=plothrs)).strftime(\"%Y/%m/%d %H:%M\")\n",
    "\n",
    "fig = kamodo_object.plot('CTIPeT_n', plot_partial={'CTIPeT_n': {'time': plothrs, 'height': 300.}})\n",
    "figMods(fig, ncont=200, colorscale='Viridis', enhanceHover=True, newTitle='CTIPe at 350km, '+timestr)"
   ]
  },
  {
   "cell_type": "code",
   "execution_count": null,
   "metadata": {},
   "outputs": [],
   "source": [
    "# Can slice through any pair of dimensions, as long as the names match the coordinates.\n",
    "# Note that the maximum and minimum heights of the T_n variable change with time.\n",
    "# This is because the variable depends on pressure level, which varies.\n",
    "fig = kamodo_object.plot('CTIPeT_n', plot_partial={'CTIPeT_n': {'lon': 12., 'lat': 30.}})\n",
    "figMods(fig, ncont=200, colorscale='Viridis', enhanceHover=True)"
   ]
  },
  {
   "cell_type": "code",
   "execution_count": null,
   "metadata": {},
   "outputs": [],
   "source": [
    "# Now look at GITM output\n",
    "fig = kamodo_object.plot('GITMT_n', plot_partial={'GITMT_n': {'time': 12., 'height': 300.}})\n",
    "figMods(fig, ncont=200, colorscale='Viridis', enhanceHover=True)"
   ]
  },
  {
   "cell_type": "code",
   "execution_count": null,
   "metadata": {},
   "outputs": [],
   "source": [
    "# Directly compare corresponding slices.\n",
    "# Note the time resolutions are different, but Kamodo automatically interpolates\n",
    "# to the finer resolution. Also note that the function composition analysis does NOT compensate for\n",
    "# differences in the data start days. The user must ensure these are the same by retrieving\n",
    "# any missing data or removing extra data. The datasets can end on different days/times and start \n",
    "# at different times BUT must start on the same day for this specific analysis.\n",
    "kamodo_object.plot('CTIPeT_n', 'GITMT_n',\n",
    "                   plot_partial={'CTIPeT_n': {'time': 12., 'lat': 25., 'height': 300.},\n",
    "                                 'GITMT_n': {'time': 12., 'lat': 25., 'height': 300.}})\n",
    "\n",
    "# This Heliocloud instance only has 8Gb or RAM, so it can't fit all three in memory, \n",
    "#   but this is what the command would be.\n",
    "#kamodo_object.plot('CTIPeT_n', 'GITMT_n', 'WACCMXT',\n",
    "#                   plot_partial={'CTIPeT_n': {'time': 12., 'lat': 25., 'height': 300.},\n",
    "#                                 'GITMT_n': {'time': 12., 'lat': 25., 'height': 300.},\n",
    "#                                 'WACCMXT': {'time': 12., 'lat': 25., 'height': 300.}})"
   ]
  },
  {
   "cell_type": "code",
   "execution_count": null,
   "metadata": {},
   "outputs": [],
   "source": [
    "# Demostrate syntax to access the regular interpolator.\n",
    "# Best for single point calculations.\n",
    "kamodo_object_ctipe.T_n([12., -20, 20, 350])"
   ]
  },
  {
   "cell_type": "code",
   "execution_count": null,
   "metadata": {},
   "outputs": [],
   "source": [
    "# Demostrate syntax to access the gridded interpolator.\n",
    "# Best for slice calculations.\n",
    "kamodo_object_ctipe.T_n_ijk(time=12, lon=-20, lat=20, height=350)"
   ]
  },
  {
   "cell_type": "code",
   "execution_count": null,
   "metadata": {},
   "outputs": [],
   "source": [
    "# At what pressure level does a given height correspond to in the CTIPe data?\n",
    "# The answer depends on the time, longitude, and latitude.\n",
    "kamodo_object_ctipe.Plev_ijk(time=12, lon=-20, lat=20, height=350)"
   ]
  },
  {
   "cell_type": "code",
   "execution_count": null,
   "metadata": {},
   "outputs": [],
   "source": [
    "# How does the corresponding pressure level vary at a given latitude and time?\n",
    "kamodo_object_ctipe.plot('Plev_ijk', plot_partial={'Plev_ijk': {'time': 12., 'lat': 20.,\n",
    "                                                                'height': 300.}})"
   ]
  },
  {
   "cell_type": "code",
   "execution_count": null,
   "metadata": {},
   "outputs": [],
   "source": []
  }
 ],
 "metadata": {
  "kernelspec": {
   "display_name": "Python 3 (ipykernel)",
   "language": "python",
   "name": "python3"
  },
  "language_info": {
   "codemirror_mode": {
    "name": "ipython",
    "version": 3
   },
   "file_extension": ".py",
   "mimetype": "text/x-python",
   "name": "python",
   "nbconvert_exporter": "python",
   "pygments_lexer": "ipython3",
   "version": "3.10.14"
  }
 },
 "nbformat": 4,
 "nbformat_minor": 4
}
